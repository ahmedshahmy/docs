{
 "cells": [
  {
   "cell_type": "code",
   "execution_count": 1,
   "id": "lovely-electron",
   "metadata": {},
   "outputs": [],
   "source": [
    "import torch"
   ]
  },
  {
   "cell_type": "code",
   "execution_count": 17,
   "id": "meaningful-dover",
   "metadata": {},
   "outputs": [],
   "source": [
    "import torch.nn as nn"
   ]
  },
  {
   "cell_type": "code",
   "execution_count": 24,
   "id": "distinct-sister",
   "metadata": {},
   "outputs": [],
   "source": [
    "import torch.optim as optim\n",
    "import matplotlib.pyplot as plt"
   ]
  },
  {
   "cell_type": "code",
   "execution_count": 2,
   "id": "outer-enemy",
   "metadata": {},
   "outputs": [
    {
     "data": {
      "text/plain": [
       "True"
      ]
     },
     "execution_count": 2,
     "metadata": {},
     "output_type": "execute_result"
    }
   ],
   "source": [
    "torch.cuda.is_available()"
   ]
  },
  {
   "cell_type": "code",
   "execution_count": 8,
   "id": "adolescent-psychiatry",
   "metadata": {},
   "outputs": [],
   "source": [
    "tensor_1=torch.tensor([[1,2,3],[2,3,4]]).cuda()"
   ]
  },
  {
   "cell_type": "code",
   "execution_count": 9,
   "id": "level-wonder",
   "metadata": {},
   "outputs": [
    {
     "data": {
      "text/plain": [
       "torch.Size([2, 3])"
      ]
     },
     "execution_count": 9,
     "metadata": {},
     "output_type": "execute_result"
    }
   ],
   "source": [
    "tensor_1.shape"
   ]
  },
  {
   "cell_type": "code",
   "execution_count": 10,
   "id": "marine-phenomenon",
   "metadata": {},
   "outputs": [],
   "source": [
    "tensor_2=torch.randn(7,7,7,7,7,7).cuda()"
   ]
  },
  {
   "cell_type": "code",
   "execution_count": 13,
   "id": "intermediate-wiring",
   "metadata": {},
   "outputs": [
    {
     "data": {
      "text/plain": [
       "torch.Size([7, 7, 7, 7, 7, 7])"
      ]
     },
     "execution_count": 13,
     "metadata": {},
     "output_type": "execute_result"
    }
   ],
   "source": [
    "tensor_2.shape"
   ]
  },
  {
   "cell_type": "code",
   "execution_count": 15,
   "id": "dedicated-gibraltar",
   "metadata": {},
   "outputs": [],
   "source": [
    "a = torch.tensor([5.0, 3.0], requires_grad=True)\n",
    "b = torch.tensor([1.0, 4.0], requires_grad=True)\n",
    "ab = ((a + b) ** 2).sum()\n",
    "ab.backward()"
   ]
  },
  {
   "cell_type": "code",
   "execution_count": 16,
   "id": "incorporate-childhood",
   "metadata": {},
   "outputs": [
    {
     "data": {
      "text/plain": [
       "tensor([12., 14.])"
      ]
     },
     "execution_count": 16,
     "metadata": {},
     "output_type": "execute_result"
    }
   ],
   "source": [
    "a.grad.data"
   ]
  },
  {
   "cell_type": "code",
   "execution_count": 18,
   "id": "manual-factor",
   "metadata": {},
   "outputs": [],
   "source": [
    "input_units = 10\n",
    "output_units = 1"
   ]
  },
  {
   "cell_type": "code",
   "execution_count": 19,
   "id": "imported-viewer",
   "metadata": {},
   "outputs": [],
   "source": [
    "model = nn.Sequential(nn.Linear(input_units, output_units),nn.Sigmoid())"
   ]
  },
  {
   "cell_type": "code",
   "execution_count": 20,
   "id": "requested-majority",
   "metadata": {},
   "outputs": [
    {
     "data": {
      "text/plain": [
       "Sequential(\n",
       "  (0): Linear(in_features=10, out_features=1, bias=True)\n",
       "  (1): Sigmoid()\n",
       ")"
      ]
     },
     "execution_count": 20,
     "metadata": {},
     "output_type": "execute_result"
    }
   ],
   "source": [
    "model"
   ]
  },
  {
   "cell_type": "code",
   "execution_count": 21,
   "id": "another-stanford",
   "metadata": {},
   "outputs": [],
   "source": [
    "loss_funct = nn.MSELoss()"
   ]
  },
  {
   "cell_type": "code",
   "execution_count": 22,
   "id": "meaning-support",
   "metadata": {},
   "outputs": [
    {
     "name": "stdout",
     "output_type": "stream",
     "text": [
      "MSELoss()\n"
     ]
    }
   ],
   "source": [
    "print(loss_funct)"
   ]
  },
  {
   "cell_type": "code",
   "execution_count": 25,
   "id": "endangered-services",
   "metadata": {},
   "outputs": [],
   "source": [
    "x = torch.randn(20,10)\n",
    "y = torch.randint(0,2, (20,1)).type(torch.FloatTensor)\n"
   ]
  },
  {
   "cell_type": "code",
   "execution_count": 26,
   "id": "professional-scanning",
   "metadata": {},
   "outputs": [],
   "source": [
    "optimizer = optim.Adam(model.parameters(), lr=0.01)"
   ]
  },
  {
   "cell_type": "code",
   "execution_count": 28,
   "id": "corporate-nelson",
   "metadata": {},
   "outputs": [
    {
     "name": "stdout",
     "output_type": "stream",
     "text": [
      "0 0.18039730191230774\n",
      "5 0.16981717944145203\n",
      "10 0.16083435714244843\n",
      "15 0.15311238169670105\n"
     ]
    }
   ],
   "source": [
    "losses = []\n",
    "for i in range(20):\n",
    "    y_pred = model(x)\n",
    "    loss = loss_funct(y_pred, y)\n",
    "    losses.append(loss.item())\n",
    "    optimizer.zero_grad()\n",
    "    loss.backward()\n",
    "    optimizer.step()\n",
    "    if i%5 == 0:\n",
    "        print(i, loss.item())"
   ]
  },
  {
   "cell_type": "code",
   "execution_count": 29,
   "id": "equivalent-publication",
   "metadata": {},
   "outputs": [
    {
     "data": {
      "image/png": "[encoded data removed]",
      "text/plain": [
       "<Figure size 432x288 with 1 Axes>"
      ]
     },
     "metadata": {
      "needs_background": "light"
     },
     "output_type": "display_data"
    }
   ],
   "source": [
    "plt.plot(range(0,20), losses)\n",
    "plt.show()\n"
   ]
  },
  {
   "cell_type": "code",
   "execution_count": null,
   "id": "facial-sierra",
   "metadata": {},
   "outputs": [],
   "source": []
  }
 ],
 "metadata": {
  "kernelspec": {
   "display_name": "Python 3",
   "language": "python",
   "name": "python3"
  },
  "language_info": {
   "codemirror_mode": {
    "name": "ipython",
    "version": 3
   },
   "file_extension": ".py",
   "mimetype": "text/x-python",
   "name": "python",
   "nbconvert_exporter": "python",
   "pygments_lexer": "ipython3",
   "version": "3.9.0"
  }
 },
 "nbformat": 4,
 "nbformat_minor": 5
}
